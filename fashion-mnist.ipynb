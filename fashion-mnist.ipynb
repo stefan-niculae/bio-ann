{
 "cells": [
  {
   "cell_type": "code",
   "execution_count": 1,
   "metadata": {},
   "outputs": [],
   "source": [
    "%load_ext autoreload\n",
    "%autoreload 2"
   ]
  },
  {
   "cell_type": "code",
   "execution_count": 2,
   "metadata": {},
   "outputs": [],
   "source": [
    "import numpy as np\n",
    "np.random.seed(0)"
   ]
  },
  {
   "cell_type": "markdown",
   "metadata": {},
   "source": [
    "## dataset"
   ]
  },
  {
   "cell_type": "code",
   "execution_count": 3,
   "metadata": {},
   "outputs": [
    {
     "name": "stderr",
     "output_type": "stream",
     "text": [
      "Using TensorFlow backend.\n"
     ]
    }
   ],
   "source": [
    "from keras.datasets import fashion_mnist\n",
    "from keras.utils import to_categorical"
   ]
  },
  {
   "cell_type": "code",
   "execution_count": 4,
   "metadata": {},
   "outputs": [],
   "source": [
    "(x_train, y_train), (x_test, y_test) = fashion_mnist.load_data()"
   ]
  },
  {
   "cell_type": "code",
   "execution_count": 5,
   "metadata": {},
   "outputs": [],
   "source": [
    "N_PIXELS = 28*28\n",
    "N_CLASSES = 10"
   ]
  },
  {
   "cell_type": "code",
   "execution_count": 6,
   "metadata": {},
   "outputs": [],
   "source": [
    "x_train = x_train.reshape(-1, N_PIXELS) / 255\n",
    "x_test  = x_test .reshape(-1, N_PIXELS) / 255"
   ]
  },
  {
   "cell_type": "code",
   "execution_count": 7,
   "metadata": {},
   "outputs": [],
   "source": [
    "y_train = to_categorical(y_train, N_CLASSES)\n",
    "y_test  = to_categorical(y_test,  N_CLASSES)"
   ]
  },
  {
   "cell_type": "markdown",
   "metadata": {},
   "source": [
    "## model"
   ]
  },
  {
   "cell_type": "code",
   "execution_count": 8,
   "metadata": {},
   "outputs": [],
   "source": [
    "from experiment_models import keras_example, no_dropout, classic_dropout, static_dropout, our_dropout"
   ]
  },
  {
   "cell_type": "code",
   "execution_count": 9,
   "metadata": {},
   "outputs": [],
   "source": [
    "models = {\n",
    "    'baseline': keras_example(),\n",
    "    'no d/o': no_dropout(),\n",
    "    'classic d/o': classic_dropout(),\n",
    "    'static d/o': static_dropout(),\n",
    "    'our d/o': our_dropout()\n",
    "}"
   ]
  },
  {
   "cell_type": "markdown",
   "metadata": {},
   "source": [
    "## train"
   ]
  },
  {
   "cell_type": "code",
   "execution_count": 10,
   "metadata": {},
   "outputs": [],
   "source": [
    "from bio_do import MaskAdvancer"
   ]
  },
  {
   "cell_type": "code",
   "execution_count": 11,
   "metadata": {},
   "outputs": [],
   "source": [
    "from time import time"
   ]
  },
  {
   "cell_type": "code",
   "execution_count": 12,
   "metadata": {},
   "outputs": [
    {
     "name": "stdout",
     "output_type": "stream",
     "text": [
      "baseline\n",
      "Train on 60000 samples, validate on 10000 samples\n",
      "Epoch 1/20\n",
      "60000/60000 [==============================] - 4s 70us/step - loss: 0.5147 - acc: 0.8159 - val_loss: 0.4008 - val_acc: 0.8512\n",
      "Epoch 2/20\n",
      "60000/60000 [==============================] - 4s 63us/step - loss: 0.3814 - acc: 0.8616 - val_loss: 0.3768 - val_acc: 0.8639\n",
      "Epoch 3/20\n",
      "60000/60000 [==============================] - 4s 63us/step - loss: 0.3460 - acc: 0.8730 - val_loss: 0.3568 - val_acc: 0.8703\n",
      "Epoch 4/20\n",
      "60000/60000 [==============================] - 4s 63us/step - loss: 0.3258 - acc: 0.8786 - val_loss: 0.3477 - val_acc: 0.8755\n",
      "Epoch 5/20\n",
      "60000/60000 [==============================] - 4s 63us/step - loss: 0.3116 - acc: 0.8850 - val_loss: 0.3447 - val_acc: 0.8759\n",
      "Epoch 6/20\n",
      "60000/60000 [==============================] - 4s 63us/step - loss: 0.2997 - acc: 0.8882 - val_loss: 0.3306 - val_acc: 0.8812\n",
      "Epoch 7/20\n",
      "60000/60000 [==============================] - 4s 64us/step - loss: 0.2856 - acc: 0.8931 - val_loss: 0.3292 - val_acc: 0.8789\n",
      "Epoch 8/20\n",
      "60000/60000 [==============================] - 4s 64us/step - loss: 0.2754 - acc: 0.8958 - val_loss: 0.3390 - val_acc: 0.8738\n",
      "Epoch 9/20\n",
      "60000/60000 [==============================] - 4s 65us/step - loss: 0.2680 - acc: 0.8978 - val_loss: 0.3253 - val_acc: 0.8822\n",
      "Epoch 10/20\n",
      "60000/60000 [==============================] - 4s 70us/step - loss: 0.2609 - acc: 0.9003 - val_loss: 0.3262 - val_acc: 0.8820\n",
      "Epoch 11/20\n",
      "60000/60000 [==============================] - 4s 72us/step - loss: 0.2557 - acc: 0.9018 - val_loss: 0.3146 - val_acc: 0.8872\n",
      "Epoch 12/20\n",
      "60000/60000 [==============================] - 4s 68us/step - loss: 0.2467 - acc: 0.9050 - val_loss: 0.3083 - val_acc: 0.8890\n",
      "Epoch 13/20\n",
      "60000/60000 [==============================] - 4s 68us/step - loss: 0.2427 - acc: 0.9078 - val_loss: 0.3135 - val_acc: 0.8854\n",
      "Epoch 14/20\n",
      "60000/60000 [==============================] - 4s 64us/step - loss: 0.2357 - acc: 0.9114 - val_loss: 0.3080 - val_acc: 0.8900\n",
      "Epoch 15/20\n",
      "60000/60000 [==============================] - 4s 65us/step - loss: 0.2297 - acc: 0.9134 - val_loss: 0.3093 - val_acc: 0.8925\n",
      "Epoch 16/20\n",
      "60000/60000 [==============================] - 4s 70us/step - loss: 0.2233 - acc: 0.9146 - val_loss: 0.3037 - val_acc: 0.8907\n",
      "Epoch 17/20\n",
      "60000/60000 [==============================] - 4s 73us/step - loss: 0.2213 - acc: 0.9163 - val_loss: 0.3082 - val_acc: 0.8910\n",
      "Epoch 18/20\n",
      "60000/60000 [==============================] - 4s 71us/step - loss: 0.2187 - acc: 0.9160 - val_loss: 0.2993 - val_acc: 0.8957\n",
      "Epoch 19/20\n",
      "60000/60000 [==============================] - 4s 71us/step - loss: 0.2117 - acc: 0.9183 - val_loss: 0.3095 - val_acc: 0.8932\n",
      "Epoch 20/20\n",
      "60000/60000 [==============================] - 4s 68us/step - loss: 0.2079 - acc: 0.9205 - val_loss: 0.3162 - val_acc: 0.8927\n",
      "no d/o\n",
      "Train on 60000 samples, validate on 10000 samples\n",
      "Epoch 1/20\n",
      "60000/60000 [==============================] - 1s 23us/step - loss: 0.5376 - acc: 0.8125 - val_loss: 0.4386 - val_acc: 0.8465\n",
      "Epoch 2/20\n",
      "60000/60000 [==============================] - 1s 18us/step - loss: 0.3718 - acc: 0.8641 - val_loss: 0.4059 - val_acc: 0.8546\n",
      "Epoch 3/20\n",
      "60000/60000 [==============================] - 1s 18us/step - loss: 0.3351 - acc: 0.8777 - val_loss: 0.3677 - val_acc: 0.8661\n",
      "Epoch 4/20\n",
      "60000/60000 [==============================] - 1s 20us/step - loss: 0.3092 - acc: 0.8854 - val_loss: 0.3591 - val_acc: 0.8694\n",
      "Epoch 5/20\n",
      "60000/60000 [==============================] - 1s 20us/step - loss: 0.2944 - acc: 0.8905 - val_loss: 0.3443 - val_acc: 0.8757\n",
      "Epoch 6/20\n",
      "60000/60000 [==============================] - 1s 21us/step - loss: 0.2767 - acc: 0.8971 - val_loss: 0.3569 - val_acc: 0.8699\n",
      "Epoch 7/20\n",
      "60000/60000 [==============================] - 1s 19us/step - loss: 0.2653 - acc: 0.9003 - val_loss: 0.3544 - val_acc: 0.8739\n",
      "Epoch 8/20\n",
      "60000/60000 [==============================] - 1s 19us/step - loss: 0.2555 - acc: 0.9050 - val_loss: 0.3259 - val_acc: 0.8834\n",
      "Epoch 9/20\n",
      "60000/60000 [==============================] - 1s 19us/step - loss: 0.2456 - acc: 0.9078 - val_loss: 0.3499 - val_acc: 0.8786\n",
      "Epoch 10/20\n",
      "60000/60000 [==============================] - 1s 19us/step - loss: 0.2354 - acc: 0.9112 - val_loss: 0.3368 - val_acc: 0.8801\n",
      "Epoch 11/20\n",
      "60000/60000 [==============================] - 1s 19us/step - loss: 0.2277 - acc: 0.9136 - val_loss: 0.3260 - val_acc: 0.8854\n",
      "Epoch 12/20\n",
      "60000/60000 [==============================] - 1s 19us/step - loss: 0.2178 - acc: 0.9173 - val_loss: 0.3361 - val_acc: 0.8855\n",
      "Epoch 13/20\n",
      "60000/60000 [==============================] - 1s 19us/step - loss: 0.2126 - acc: 0.9207 - val_loss: 0.3440 - val_acc: 0.8830\n",
      "Epoch 14/20\n",
      "60000/60000 [==============================] - 1s 20us/step - loss: 0.2044 - acc: 0.9222 - val_loss: 0.3339 - val_acc: 0.8876\n",
      "Epoch 15/20\n",
      "60000/60000 [==============================] - 1s 20us/step - loss: 0.1992 - acc: 0.9244 - val_loss: 0.3491 - val_acc: 0.8857\n",
      "Epoch 16/20\n",
      "60000/60000 [==============================] - 1s 21us/step - loss: 0.1915 - acc: 0.9273 - val_loss: 0.3481 - val_acc: 0.8887\n",
      "Epoch 17/20\n",
      "60000/60000 [==============================] - 1s 19us/step - loss: 0.1853 - acc: 0.9305 - val_loss: 0.3495 - val_acc: 0.8919\n",
      "Epoch 18/20\n",
      "60000/60000 [==============================] - 1s 19us/step - loss: 0.1791 - acc: 0.9316 - val_loss: 0.3452 - val_acc: 0.8883\n",
      "Epoch 19/20\n",
      "60000/60000 [==============================] - 1s 19us/step - loss: 0.1744 - acc: 0.9337 - val_loss: 0.3342 - val_acc: 0.8919\n",
      "Epoch 20/20\n",
      "60000/60000 [==============================] - 1s 19us/step - loss: 0.1697 - acc: 0.9356 - val_loss: 0.3397 - val_acc: 0.8912\n",
      "classic d/o\n",
      "Train on 60000 samples, validate on 10000 samples\n",
      "Epoch 1/20\n",
      "60000/60000 [==============================] - 2s 29us/step - loss: 0.8476 - acc: 0.6915 - val_loss: 0.4929 - val_acc: 0.8188\n",
      "Epoch 2/20\n",
      "60000/60000 [==============================] - 1s 23us/step - loss: 0.5390 - acc: 0.8106 - val_loss: 0.4335 - val_acc: 0.8430\n",
      "Epoch 3/20\n",
      "60000/60000 [==============================] - 1s 23us/step - loss: 0.4892 - acc: 0.8276 - val_loss: 0.4178 - val_acc: 0.8463\n",
      "Epoch 4/20\n",
      "60000/60000 [==============================] - 1s 23us/step - loss: 0.4592 - acc: 0.8376 - val_loss: 0.4009 - val_acc: 0.8528\n",
      "Epoch 5/20\n",
      "60000/60000 [==============================] - 1s 22us/step - loss: 0.4405 - acc: 0.8446 - val_loss: 0.3946 - val_acc: 0.8549\n",
      "Epoch 6/20\n",
      "60000/60000 [==============================] - 1s 22us/step - loss: 0.4308 - acc: 0.8463 - val_loss: 0.3896 - val_acc: 0.8577\n",
      "Epoch 7/20\n",
      "60000/60000 [==============================] - 1s 22us/step - loss: 0.4186 - acc: 0.8508 - val_loss: 0.3978 - val_acc: 0.8627\n",
      "Epoch 8/20\n",
      "60000/60000 [==============================] - 1s 22us/step - loss: 0.4071 - acc: 0.8550 - val_loss: 0.3715 - val_acc: 0.8678\n",
      "Epoch 9/20\n",
      "60000/60000 [==============================] - 1s 23us/step - loss: 0.3952 - acc: 0.8593 - val_loss: 0.3798 - val_acc: 0.8576\n",
      "Epoch 10/20\n",
      "60000/60000 [==============================] - 1s 24us/step - loss: 0.3944 - acc: 0.8593 - val_loss: 0.3644 - val_acc: 0.8664\n",
      "Epoch 11/20\n",
      "60000/60000 [==============================] - 1s 25us/step - loss: 0.3821 - acc: 0.8636 - val_loss: 0.3658 - val_acc: 0.8694\n",
      "Epoch 12/20\n",
      "60000/60000 [==============================] - 2s 27us/step - loss: 0.3797 - acc: 0.8650 - val_loss: 0.3654 - val_acc: 0.8687\n",
      "Epoch 13/20\n",
      "60000/60000 [==============================] - 2s 28us/step - loss: 0.3722 - acc: 0.8658 - val_loss: 0.3755 - val_acc: 0.8634\n",
      "Epoch 14/20\n",
      "60000/60000 [==============================] - 2s 27us/step - loss: 0.3701 - acc: 0.8669 - val_loss: 0.3642 - val_acc: 0.8686\n",
      "Epoch 15/20\n",
      "60000/60000 [==============================] - 2s 27us/step - loss: 0.3686 - acc: 0.8683 - val_loss: 0.3562 - val_acc: 0.8750\n",
      "Epoch 16/20\n",
      "60000/60000 [==============================] - 2s 27us/step - loss: 0.3651 - acc: 0.8674 - val_loss: 0.3658 - val_acc: 0.8685\n",
      "Epoch 17/20\n",
      "60000/60000 [==============================] - 2s 27us/step - loss: 0.3623 - acc: 0.8701 - val_loss: 0.3583 - val_acc: 0.8708\n",
      "Epoch 18/20\n",
      "60000/60000 [==============================] - 2s 27us/step - loss: 0.3566 - acc: 0.8725 - val_loss: 0.3508 - val_acc: 0.8732\n",
      "Epoch 19/20\n",
      "60000/60000 [==============================] - 2s 27us/step - loss: 0.3553 - acc: 0.8709 - val_loss: 0.3489 - val_acc: 0.8762\n",
      "Epoch 20/20\n",
      "60000/60000 [==============================] - 2s 27us/step - loss: 0.3528 - acc: 0.8722 - val_loss: 0.3512 - val_acc: 0.8712\n",
      "static d/o\n",
      "Train on 60000 samples, validate on 10000 samples\n",
      "Epoch 1/20\n",
      "60000/60000 [==============================] - 2s 33us/step - loss: 0.6043 - acc: 0.7892 - val_loss: 0.4790 - val_acc: 0.8281\n",
      "Epoch 2/20\n",
      "60000/60000 [==============================] - 1s 24us/step - loss: 0.3983 - acc: 0.8568 - val_loss: 0.4139 - val_acc: 0.8519\n",
      "Epoch 3/20\n",
      "60000/60000 [==============================] - 1s 23us/step - loss: 0.3595 - acc: 0.8711 - val_loss: 0.3930 - val_acc: 0.8623\n",
      "Epoch 4/20\n",
      "60000/60000 [==============================] - 1s 23us/step - loss: 0.3334 - acc: 0.8785 - val_loss: 0.3932 - val_acc: 0.8605\n",
      "Epoch 5/20\n",
      "60000/60000 [==============================] - 1s 23us/step - loss: 0.3133 - acc: 0.8856 - val_loss: 0.3679 - val_acc: 0.8650\n",
      "Epoch 6/20\n",
      "60000/60000 [==============================] - 1s 22us/step - loss: 0.3012 - acc: 0.8887 - val_loss: 0.3560 - val_acc: 0.8742\n",
      "Epoch 7/20\n",
      "60000/60000 [==============================] - 1s 22us/step - loss: 0.2900 - acc: 0.8933 - val_loss: 0.3737 - val_acc: 0.8659\n",
      "Epoch 8/20\n",
      "60000/60000 [==============================] - 1s 22us/step - loss: 0.2817 - acc: 0.8955 - val_loss: 0.3403 - val_acc: 0.8786\n",
      "Epoch 9/20\n",
      "60000/60000 [==============================] - 1s 22us/step - loss: 0.2684 - acc: 0.9007 - val_loss: 0.3346 - val_acc: 0.8800\n",
      "Epoch 10/20\n",
      "60000/60000 [==============================] - 1s 22us/step - loss: 0.2615 - acc: 0.9026 - val_loss: 0.3422 - val_acc: 0.8770\n",
      "Epoch 11/20\n",
      "60000/60000 [==============================] - 1s 22us/step - loss: 0.2537 - acc: 0.9057 - val_loss: 0.3393 - val_acc: 0.8787\n",
      "Epoch 12/20\n",
      "60000/60000 [==============================] - 1s 22us/step - loss: 0.2468 - acc: 0.9080 - val_loss: 0.3419 - val_acc: 0.8796\n",
      "Epoch 13/20\n",
      "60000/60000 [==============================] - 1s 22us/step - loss: 0.2402 - acc: 0.9104 - val_loss: 0.3373 - val_acc: 0.8838\n",
      "Epoch 14/20\n",
      "60000/60000 [==============================] - 1s 22us/step - loss: 0.2331 - acc: 0.9134 - val_loss: 0.3429 - val_acc: 0.8800\n",
      "Epoch 15/20\n",
      "60000/60000 [==============================] - 1s 21us/step - loss: 0.2283 - acc: 0.9149 - val_loss: 0.3365 - val_acc: 0.8824\n",
      "Epoch 16/20\n",
      "60000/60000 [==============================] - 1s 21us/step - loss: 0.2240 - acc: 0.9160 - val_loss: 0.3414 - val_acc: 0.8856\n",
      "Epoch 17/20\n",
      "60000/60000 [==============================] - 1s 21us/step - loss: 0.2133 - acc: 0.9201 - val_loss: 0.3395 - val_acc: 0.8855\n",
      "Epoch 18/20\n",
      "60000/60000 [==============================] - 1s 21us/step - loss: 0.2081 - acc: 0.9224 - val_loss: 0.3404 - val_acc: 0.8834\n",
      "Epoch 19/20\n",
      "60000/60000 [==============================] - 1s 22us/step - loss: 0.2057 - acc: 0.9225 - val_loss: 0.3424 - val_acc: 0.8855\n",
      "Epoch 20/20\n",
      "60000/60000 [==============================] - 1s 21us/step - loss: 0.2017 - acc: 0.9241 - val_loss: 0.3503 - val_acc: 0.8823\n",
      "our d/o\n",
      "Train on 60000 samples, validate on 10000 samples\n",
      "Epoch 1/20\n",
      "60000/60000 [==============================] - 2s 28us/step - loss: 1.2091 - acc: 0.6115 - val_loss: 0.6455 - val_acc: 0.7683\n",
      "Epoch 2/20\n",
      "60000/60000 [==============================] - 1s 21us/step - loss: 0.5618 - acc: 0.7990 - val_loss: 0.5421 - val_acc: 0.8037\n",
      "Epoch 3/20\n",
      "60000/60000 [==============================] - 1s 21us/step - loss: 0.4911 - acc: 0.8247 - val_loss: 0.4957 - val_acc: 0.8215\n",
      "Epoch 4/20\n",
      "60000/60000 [==============================] - 1s 21us/step - loss: 0.4574 - acc: 0.8375 - val_loss: 0.4743 - val_acc: 0.8295\n",
      "Epoch 5/20\n",
      "60000/60000 [==============================] - 1s 21us/step - loss: 0.4360 - acc: 0.8448 - val_loss: 0.4601 - val_acc: 0.8353\n",
      "Epoch 6/20\n",
      "60000/60000 [==============================] - 1s 21us/step - loss: 0.4208 - acc: 0.8512 - val_loss: 0.4519 - val_acc: 0.8390\n",
      "Epoch 7/20\n",
      "60000/60000 [==============================] - 1s 21us/step - loss: 0.4088 - acc: 0.8543 - val_loss: 0.4389 - val_acc: 0.8423\n",
      "Epoch 8/20\n",
      "60000/60000 [==============================] - 1s 21us/step - loss: 0.3982 - acc: 0.8579 - val_loss: 0.4329 - val_acc: 0.8462\n",
      "Epoch 9/20\n",
      "60000/60000 [==============================] - 1s 21us/step - loss: 0.3901 - acc: 0.8610 - val_loss: 0.4229 - val_acc: 0.8499\n",
      "Epoch 10/20\n",
      "60000/60000 [==============================] - 1s 21us/step - loss: 0.3823 - acc: 0.8629 - val_loss: 0.4179 - val_acc: 0.8489\n",
      "Epoch 11/20\n",
      "60000/60000 [==============================] - 1s 22us/step - loss: 0.3761 - acc: 0.8655 - val_loss: 0.4157 - val_acc: 0.8498\n",
      "Epoch 12/20\n",
      "60000/60000 [==============================] - 1s 22us/step - loss: 0.3696 - acc: 0.8664 - val_loss: 0.4105 - val_acc: 0.8535\n",
      "Epoch 13/20\n",
      "60000/60000 [==============================] - 1s 23us/step - loss: 0.3656 - acc: 0.8678 - val_loss: 0.4136 - val_acc: 0.8530\n",
      "Epoch 14/20\n",
      "60000/60000 [==============================] - 1s 22us/step - loss: 0.3600 - acc: 0.8692 - val_loss: 0.4076 - val_acc: 0.8543\n",
      "Epoch 15/20\n",
      "60000/60000 [==============================] - 1s 22us/step - loss: 0.3569 - acc: 0.8715 - val_loss: 0.4105 - val_acc: 0.8537\n",
      "Epoch 16/20\n",
      "60000/60000 [==============================] - 1s 21us/step - loss: 0.3532 - acc: 0.8716 - val_loss: 0.3966 - val_acc: 0.8579\n",
      "Epoch 17/20\n",
      "60000/60000 [==============================] - 1s 21us/step - loss: 0.3488 - acc: 0.8736 - val_loss: 0.3975 - val_acc: 0.8596\n",
      "Epoch 18/20\n",
      "60000/60000 [==============================] - 1s 21us/step - loss: 0.3448 - acc: 0.8743 - val_loss: 0.3953 - val_acc: 0.8593\n",
      "Epoch 19/20\n",
      "60000/60000 [==============================] - 1s 21us/step - loss: 0.3414 - acc: 0.8760 - val_loss: 0.3915 - val_acc: 0.8608\n",
      "Epoch 20/20\n",
      "60000/60000 [==============================] - 1s 21us/step - loss: 0.3383 - acc: 0.8771 - val_loss: 0.3902 - val_acc: 0.8589\n"
     ]
    }
   ],
   "source": [
    "histories = {}\n",
    "times = {}\n",
    "\n",
    "for name, model in models.items():\n",
    "    print(name)\n",
    "    t0 = time()\n",
    "    h = model.fit(x_train, y_train, validation_data=(x_test, y_test),\n",
    "                  batch_size=128, epochs=20, \n",
    "                  verbose=1,\n",
    "                  callbacks=[MaskAdvancer(every=3)])\n",
    "\n",
    "    times[name] = time() - t0\n",
    "    histories[name] = h.history"
   ]
  },
  {
   "cell_type": "code",
   "execution_count": 25,
   "metadata": {},
   "outputs": [],
   "source": [
    "baseline = histories['baseline']['val_acc'][-1]"
   ]
  },
  {
   "cell_type": "code",
   "execution_count": 24,
   "metadata": {},
   "outputs": [],
   "source": [
    "ours = histories['our d/o']['val_acc'][-1]"
   ]
  },
  {
   "cell_type": "code",
   "execution_count": 29,
   "metadata": {},
   "outputs": [
    {
     "data": {
      "text/plain": [
       "'3.79% performance drop'"
      ]
     },
     "execution_count": 29,
     "metadata": {},
     "output_type": "execute_result"
    }
   ],
   "source": [
    "f'{(1 - ours/baseline):.2%} performance drop'"
   ]
  },
  {
   "cell_type": "code",
   "execution_count": 35,
   "metadata": {},
   "outputs": [],
   "source": [
    "from bio_do import CustomConnections"
   ]
  },
  {
   "cell_type": "code",
   "execution_count": 41,
   "metadata": {},
   "outputs": [],
   "source": [
    "our_conns = sum(layer.masks[-1].sum() \n",
    "                for layer in models['our d/o'].layers \n",
    "                if isinstance(layer, CustomConnections))"
   ]
  },
  {
   "cell_type": "code",
   "execution_count": 49,
   "metadata": {},
   "outputs": [],
   "source": [
    "traditional_conns = 784*512 + 512*512 + 512*10"
   ]
  },
  {
   "cell_type": "code",
   "execution_count": 50,
   "metadata": {},
   "outputs": [
    {
     "data": {
      "text/plain": [
       "'11,490 vs 668,672 conns'"
      ]
     },
     "execution_count": 50,
     "metadata": {},
     "output_type": "execute_result"
    }
   ],
   "source": [
    "f'{our_conns:,} vs {traditional_conns:,} conns'"
   ]
  },
  {
   "cell_type": "code",
   "execution_count": 51,
   "metadata": {},
   "outputs": [
    {
     "data": {
      "text/plain": [
       "'1.72% conns'"
      ]
     },
     "execution_count": 51,
     "metadata": {},
     "output_type": "execute_result"
    }
   ],
   "source": [
    "f'{our_conns/traditional_conns:.2%} conns'"
   ]
  },
  {
   "cell_type": "markdown",
   "metadata": {},
   "source": [
    "## viz"
   ]
  },
  {
   "cell_type": "code",
   "execution_count": 13,
   "metadata": {},
   "outputs": [],
   "source": [
    "import matplotlib.pyplot as plt\n",
    "%matplotlib inline"
   ]
  },
  {
   "cell_type": "code",
   "execution_count": 17,
   "metadata": {},
   "outputs": [
    {
     "data": {
      "image/png": "[encoded data removed]",
      "text/plain": [
       "<Figure size 432x288 with 1 Axes>"
      ]
     },
     "metadata": {
      "needs_background": "light"
     },
     "output_type": "display_data"
    }
   ],
   "source": [
    "for name, history in histories.items():\n",
    "    plt.plot(history['val_acc'], label=name)\n",
    "\n",
    "plt.title('Test Performance')\n",
    "plt.legend(loc=4, title='Model')\n",
    "\n",
    "plt.xlabel('Epoch')\n",
    "plt.ylabel('Accuracy')\n",
    "\n",
    "plt.gca().set_yticklabels(['{:.0%}'.format(y) for y in plt.gca().get_yticks()])\n",
    "# plt.ylim(.8, 1)\n",
    "\n",
    "plt.show()"
   ]
  },
  {
   "cell_type": "code",
   "execution_count": 18,
   "metadata": {},
   "outputs": [
    {
     "data": {
      "image/png": "[encoded data removed]",
      "text/plain": [
       "<Figure size 432x288 with 1 Axes>"
      ]
     },
     "metadata": {
      "needs_background": "light"
     },
     "output_type": "display_data"
    }
   ],
   "source": [
    "for name, history in histories.items():\n",
    "    plt.plot(history['acc'], label=name)\n",
    "\n",
    "plt.title('Train Performance')\n",
    "plt.legend(loc=4, title='Model')\n",
    "\n",
    "plt.xlabel('Epoch')\n",
    "plt.ylabel('Accuracy')\n",
    "\n",
    "plt.gca().set_yticklabels(['{:.0%}'.format(y) for y in plt.gca().get_yticks()])\n",
    "# plt.ylim(.8, 1)\n",
    "\n",
    "plt.show()"
   ]
  }
 ],
 "metadata": {
  "kernelspec": {
   "display_name": "Python 3",
   "language": "python",
   "name": "python3"
  },
  "language_info": {
   "codemirror_mode": {
    "name": "ipython",
    "version": 3
   },
   "file_extension": ".py",
   "mimetype": "text/x-python",
   "name": "python",
   "nbconvert_exporter": "python",
   "pygments_lexer": "ipython3",
   "version": "3.6.6"
  }
 },
 "nbformat": 4,
 "nbformat_minor": 2
}
